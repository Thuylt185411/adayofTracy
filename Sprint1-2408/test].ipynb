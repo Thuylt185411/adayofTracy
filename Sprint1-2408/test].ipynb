{
 "cells": [
  {
   "cell_type": "code",
   "id": "initial_id",
   "metadata": {
    "collapsed": true,
    "jupyter": {
     "is_executing": true
    }
   },
   "source": [
    "from abc import ABC, abstractmethod\n",
    "\n",
    "class Polygon(ABC):\n",
    "    @abstractmethod\n",
    "    def draw(self):\n",
    "        pass\n",
    "    def get_area(self):\n",
    "        pass\n",
    "\n",
    "#class thứ 2 implement từ abstractClass\n",
    "class Rectangle(Polygon):\n",
    "    def __init__(self, width, height):\n",
    "        self.width = width\n",
    "        self.height = height\n",
    "    def draw(self):\n",
    "        print('Tự vẽ đi, vẽ cũng lười')\n",
    "    def get_area(self):\n",
    "        return self.width*self.height\n",
    "\n",
    "rectangle = Rectangle(8,4)\n",
    "rectangle_area =rectangle.get_area()"
   ],
   "outputs": [],
   "execution_count": null
  },
  {
   "metadata": {
    "ExecuteTime": {
     "end_time": "2024-07-26T20:18:53.230659Z",
     "start_time": "2024-07-26T20:18:53.201634Z"
    }
   },
   "cell_type": "code",
   "source": [
    "from datetime import date \n",
    "  \n",
    "class Person: \n",
    "    def __init__(self, name, age): \n",
    "        self.name = name \n",
    "        self.age = age \n",
    "      \n",
    "    # a class method to create a Person object by birth year. \n",
    "    @classmethod\n",
    "    def fromBirthYear(cls, name, year): \n",
    "        return cls(name, date.today().year - year) \n",
    "      \n",
    "    # a static method to check if a Person is adult or not. \n",
    "    @staticmethod\n",
    "    def isAdult(age): \n",
    "        return age > 18\n",
    "  \n",
    "person1 = Person(name = 'mayank', age = 21 ) \n",
    "# person2 = Person.fromBirthYear('mayank', 1996) "
   ],
   "id": "229ae85de7642bc3",
   "outputs": [
    {
     "ename": "TypeError",
     "evalue": "Person.__init__() missing 1 required positional argument: 'year'",
     "output_type": "error",
     "traceback": [
      "\u001B[1;31m---------------------------------------------------------------------------\u001B[0m",
      "\u001B[1;31mTypeError\u001B[0m                                 Traceback (most recent call last)",
      "Cell \u001B[1;32mIn[7], line 19\u001B[0m\n\u001B[0;32m     15\u001B[0m     \u001B[38;5;129m@staticmethod\u001B[39m\n\u001B[0;32m     16\u001B[0m     \u001B[38;5;28;01mdef\u001B[39;00m \u001B[38;5;21misAdult\u001B[39m(age): \n\u001B[0;32m     17\u001B[0m         \u001B[38;5;28;01mreturn\u001B[39;00m age \u001B[38;5;241m>\u001B[39m \u001B[38;5;241m18\u001B[39m\n\u001B[1;32m---> 19\u001B[0m person1 \u001B[38;5;241m=\u001B[39m \u001B[43mPerson\u001B[49m\u001B[43m(\u001B[49m\u001B[43mname\u001B[49m\u001B[43m \u001B[49m\u001B[38;5;241;43m=\u001B[39;49m\u001B[43m \u001B[49m\u001B[38;5;124;43m'\u001B[39;49m\u001B[38;5;124;43mmayank\u001B[39;49m\u001B[38;5;124;43m'\u001B[39;49m\u001B[43m,\u001B[49m\u001B[43m \u001B[49m\u001B[43mage\u001B[49m\u001B[43m \u001B[49m\u001B[38;5;241;43m=\u001B[39;49m\u001B[43m \u001B[49m\u001B[38;5;241;43m21\u001B[39;49m\u001B[43m \u001B[49m\u001B[43m)\u001B[49m \n\u001B[0;32m     20\u001B[0m \u001B[38;5;66;03m# person2 = Person.fromBirthYear('mayank', 1996) \u001B[39;00m\n",
      "\u001B[1;31mTypeError\u001B[0m: Person.__init__() missing 1 required positional argument: 'year'"
     ]
    }
   ],
   "execution_count": 7
  },
  {
   "metadata": {},
   "cell_type": "code",
   "outputs": [],
   "execution_count": null,
   "source": [
    "from ultralytics import YOLO\n",
    "\n",
    "\n",
    "class Cropper():\n",
    "    def __init__(self, file_yml):\n",
    "        self.load_config(self,file_yml)\n",
    "        self.model = YOLO(self.config['model_path'])\n",
    "        self.img_size = self.config['img_size']\n",
    "        self.threshold = self.config['conf_threshold']\n",
    "    def predict_from_url(self, img_url, imgsz=):\n",
    "        results = self.model.predict(source=image_url, \n",
    "                         imgsz=self.img_size,\n",
    "                         conf=self.threshold)\n",
    "    # xyz\n",
    "    def predict_from_numpy(self, img_arr):\n",
    "\n",
    "    def predict(self, img):\n",
    "        if a:\n",
    "            self.pre\n",
    "    def load_config(self,file_yml):\n",
    "        with open(file_yml, encoding='utf-8') as f:\n",
    "                self.config = yaml.safe_load(f)\n",
    "\n",
    "cropper = Cropper('abc.yml')\n",
    "\n",
    "class Cropper():\n",
    "    def __init__(self, model_path, img_size, conf_threshold):\n",
    "        self.model = model_path\n",
    "        self.img_size = img_size\n",
    "        self.threshold = conf_threshold\n",
    "    def predict_from_url(self, img_url, imgsz=):\n",
    "        results = self.model.predict(source=image_url, \n",
    "                         imgsz=self.img_size,\n",
    "                         conf=self.threshold)\n",
    "    # xyz\n",
    "    def predict_from_numpy(self, img_arr):\n",
    "\n",
    "    def predict(self, img):\n",
    "        if a:\n",
    "            self.pre\n",
    " \n",
    "    @classmethod\n",
    "    def load_from_config(cls,file_yml):\n",
    "        with open(file_yml, encoding='utf-8') as f:\n",
    "            config = yaml.safe_load(f)\n",
    "        return cls(config['model_path'], config['img_size'], config['conf_threshold'])\n",
    "# cropper = Cropper(model_path=,\n",
    "#                   img_size=,\n",
    "#                   conf_threshold=\n",
    "#                   )\n",
    "cropper = Cropper.load_from_config(yml_file)\n",
    "\n",
    "\n",
    "class Cropper(BaseD):\n",
    "    def __init__(self, model_path, img_size, conf_threshold):\n",
    "        self.model = model_path\n",
    "        self.img_size = img_size\n",
    "        self.threshold = conf_threshold\n",
    "    def predict_from_url(self, img_url, imgsz=):\n",
    "    results = self.model.predict(source=image_url, \n",
    "                     imgsz=self.img_size,\n",
    "                     conf=self.threshold)\n",
    "    # xyz\n",
    "    def predict_from_numpy(self, img_arr):\n",
    "\n",
    "    def predict(self, img):\n",
    "    if a:\n",
    "        self.pre\n",
    " \n",
    "    @classmethod\n",
    "    def load_from_config(cls,file_yml):\n",
    "     with open(file_yml, encoding='utf-8') as f:\n",
    "            config = yaml.safe_load(f)\n",
    "     return cls(config['model_path'], config['img_size'], config['conf_threshold'])"
   ],
   "id": "4c923ad49b9b0475"
  }
 ],
 "metadata": {
  "kernelspec": {
   "display_name": "Python 3",
   "language": "python",
   "name": "python3"
  },
  "language_info": {
   "codemirror_mode": {
    "name": "ipython",
    "version": 2
   },
   "file_extension": ".py",
   "mimetype": "text/x-python",
   "name": "python",
   "nbconvert_exporter": "python",
   "pygments_lexer": "ipython2",
   "version": "2.7.6"
  }
 },
 "nbformat": 4,
 "nbformat_minor": 5
}
